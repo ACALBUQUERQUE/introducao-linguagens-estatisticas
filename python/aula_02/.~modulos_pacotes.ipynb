{
 "cells": [
  {
   "cell_type": "markdown",
   "metadata": {},
   "source": [
    "# Módulos\n",
    "\n",
    "Um módulo refere-se a um arquivo contendo definições de funções e intruções Python.\n",
    "\n",
    "Um arquivo contendo um código Python, por exemplo: exemplo.py, é chamado de modulo e seu nome seria exemplo.\n",
    "\n",
    "Módulos ajudando a tornar o código, a medida que vai crescendo, mais organizado e manutenível. Alémdisso, modulos promovem a reusabilidade do código.\n",
    "\n",
    "Python possui vários modulos embutidos na linguagem. Um deles é ```math```. Vamos ver como utilizar as funçòes e definições de modulo.\n",
    "\n",
    "Primeiro, nós temos de importar o modulo. Para isso, é utilizado o comando ```import```. "
   ]
  },
  {
   "cell_type": "code",
   "execution_count": 4,
   "metadata": {},
   "outputs": [
    {
     "name": "stdout",
     "output_type": "stream",
     "text": [
      "2.0\n",
      "2.30258509299\n"
     ]
    }
   ],
   "source": [
    "# importamos o modulo\n",
    "import math\n",
    "\n",
    "# vamos utilzar a função sqrt e log\n",
    "print(math.sqrt(4))\n",
    "print(math.log(10))"
   ]
  },
  {
   "cell_type": "markdown",
   "metadata": {},
   "source": [
    "Nos podemos importar a propria função a partir de um modulo, sem a necessidade de escrever toda vez o nome do mesmo."
   ]
  },
  {
   "cell_type": "code",
   "execution_count": 6,
   "metadata": {},
   "outputs": [
    {
     "name": "stdout",
     "output_type": "stream",
     "text": [
      "2.0\n",
      "2.30258509299\n"
     ]
    }
   ],
   "source": [
    "# importamos o modulo\n",
    "from math import sqrt, log\n",
    "\n",
    "# vamos utilzar a função sqrt e log\n",
    "print(sqrt(4))\n",
    "print(log(10))"
   ]
  },
  {
   "cell_type": "markdown",
   "metadata": {},
   "source": [
    "## Renomear importação\n",
    "\n",
    "Podemos renomear as funções e modolos que importamos, utilizando a claúsula ```as```."
   ]
  },
  {
   "cell_type": "code",
   "execution_count": 9,
   "metadata": {},
   "outputs": [
    {
     "name": "stdout",
     "output_type": "stream",
     "text": [
      "2.0\n",
      "2.30258509299\n"
     ]
    }
   ],
   "source": [
    "import math as m\n",
    "# log em python é logaritmo natural e nao na base 10\n",
    "from math import log as ln\n",
    "\n",
    "# vamos utilzar a função sqrt e log\n",
    "print(m.sqrt(4))\n",
    "print(ln(10))"
   ]
  },
  {
   "cell_type": "markdown",
   "metadata": {},
   "source": [
    "### Importando tudo em um modulo"
   ]
  },
  {
   "cell_type": "code",
   "execution_count": 11,
   "metadata": {},
   "outputs": [
    {
     "name": "stdout",
     "output_type": "stream",
     "text": [
      "2.0\n",
      "2.30258509299\n"
     ]
    }
   ],
   "source": [
    "from math import *\n",
    "\n",
    "print(sqrt(4))\n",
    "print(log(10))"
   ]
  },
  {
   "cell_type": "markdown",
   "metadata": {},
   "source": [
    "## Exercício\n",
    "\n",
    "Muitas vezes quando estamos criando nossos modelos é preciso definir uma métrica para nós os avaliarmos e escolher o melhor dentre eles. Algumas vezes, nós mesmo temos de implementá-las, portanto, nesse exercício voc6e vai ter de implementar uma extensão da métrica Erro Quadrático Médio, em inglês *Mean Squared Error (MSE)*, chamada *Root Mean Squared Logarithmic Error (RMSLE)*. \n",
    "\n",
    "A RMSLE é deifnida como:\n",
    "\n",
    "$\\epsilon = \\sqrt{\\frac{1}{n}\\sum_{i=1}^{n}(\\log(\\hat{y}_i) - \\log(y_i))^2}$\n",
    "\n",
    "onde:\n",
    "\n",
    "- $\\epsilon$ é o valor do erro (score)\n",
    "- $n$ é o total de exemplos no conjunto de dados testado\n",
    "- $\\hat{y}_i$ é a predição do modelo\n",
    "- $y_i$ é o valor do real do imóvel (rótulo)\n",
    "- $\\log(x)$ é a função logarítmica de $x$\n",
    "\n",
    "A RMSLE penaliza mais estimativas erradas para menos do que para mais."
   ]
  },
  {
   "cell_type": "code",
   "execution_count": 35,
   "metadata": {},
   "outputs": [
    {
     "name": "stdout",
     "output_type": "stream",
     "text": [
      "(0.10536051565774202, 0.10536051565774202, 0.10536051565782643)\n",
      "10 loops, best of 3: 120 ms per loop\n",
      "10 loops, best of 3: 121 ms per loop\n"
     ]
    }
   ],
   "source": [
    "import math\n",
    "def RMSLE(y_true, y_pred):\n",
    "    \"\"\" Root Mean Squared Logarithmic Error \n",
    "    Parâmetros\n",
    "    ----------\n",
    "    y_true : 1d array\n",
    "        Rótulos.\n",
    "    y_pred : 1d array\n",
    "        Predições, retornadas pelo modelo.\n",
    "    \"\"\"\n",
    "    # TODO: seu código\n",
    "    n = len(y_true)\n",
    "    return math.sqrt(sum(map(lambda y: (math.log(y[1]) - math.log(y[0]))**2, zip(y_true, y_pred)))/n)\n",
    "\n",
    "def RMSLE1(y_true, y_pred):\n",
    "    \"\"\" Root Mean Squared Logarithmic Error \n",
    "    Parâmetros\n",
    "    ----------\n",
    "    y_true : 1d array\n",
    "        Rótulos.\n",
    "    y_pred : 1d array\n",
    "        Predições, retornadas pelo modelo.\n",
    "    \"\"\"\n",
    "    # TODO: seu código\n",
    "    n = len(y_true)\n",
    "    soma = 0\n",
    "    for i in range(n):\n",
    "        soma += (math.log(y_pred[i] / y_true[i]))**2\n",
    "    return math.sqrt(soma / n)\n",
    "\n",
    "import numpy as np\n",
    "def RMSLE2(y_true, y_pred):\n",
    "    \"\"\" Root Mean Squared Logarithmic Error \n",
    "    Parâmetros\n",
    "    ----------\n",
    "    y_true : 1d array\n",
    "        Rótulos.\n",
    "    y_pred : 1d array\n",
    "        Predições, retornadas pelo modelo.\n",
    "    \"\"\"\n",
    "    y_pred = np.array(y_pred)\n",
    "    y_true = np.array(y_true)\n",
    "    log = np.log(y_pred / y_true)\n",
    "    return np.sqrt(np.mean(log * log))\n",
    "\n",
    "def RMSLE3(y_true, y_pred):\n",
    "    \"\"\" Root Mean Squared Logarithmic Error \n",
    "    Parâmetros\n",
    "    ----------\n",
    "    y_true : 1d array\n",
    "        Rótulos.\n",
    "    y_pred : 1d array\n",
    "        Predições, retornadas pelo modelo.\n",
    "    \"\"\"\n",
    "    y_pred = np.array(y_pred)\n",
    "    y_true = np.array(y_true)\n",
    "    return np.sqrt(np.mean(np.log(y_pred / y_true)**2))\n",
    "\n",
    "# criando uma entrada exemplo\n",
    "\n",
    "y_true = np.random.uniform(0, 2, 1000000)# [1, 2, 3, 4, 5, 6, 7, 8, 9]\n",
    "y_pred = map(lambda y: 0.9 * y if y % 2 else 1.2 * y, y_true)\n",
    "\n",
    "print(RMSLE(y_true, y_pred), RMSLE1(y_true, y_pred), RMSLE2(y_true, y_pred))\n",
    "# %timeit RMSLE(y_true, y_pred)\n",
    "%timeit RMSLE3(y_true, y_pred)\n",
    "%timeit RMSLE2(y_true, y_pred)"
   ]
  },
  {
   "cell_type": "markdown",
   "metadata": {},
   "source": [
    "# Pacotes\n",
    "\n",
    "Em nosso computador, nós não armazenamos todos nossos arquivos em um único lugar. Nós os organizamos hierarquicamente em diretórios para que possamos acessá-los rapidamente.\n",
    "\n",
    "Analogamente a isso, Python em python nós organizamos nossos modulos em pacotes.\n",
    "\n",
    "A medida que nossa aplicação cresce com um monte de módulos, nós agrupamos modulos similares em um pacote e módulos distintos em pacotes diferentes.\n",
    "\n",
    "Abaixo uma pequena amostra da organização do pacote numpy que iremos utilizar bastantes nesse curso.\n",
    "\n",
    "![pacote](package-example.png)\n",
    "\n",
    "## Importando de pacotes"
   ]
  },
  {
   "cell_type": "code",
   "execution_count": null,
   "metadata": {
    "collapsed": true
   },
   "outputs": [],
   "source": [
    "import numpy.random"
   ]
  },
  {
   "cell_type": "code",
   "execution_count": null,
   "metadata": {
    "collapsed": true
   },
   "outputs": [],
   "source": []
  }
 ],
 "metadata": {
  "kernelspec": {
   "display_name": "Python 3",
   "language": "python",
   "name": "python3"
  },
  "language_info": {
   "codemirror_mode": {
    "name": "ipython",
    "version": 2
   },
   "file_extension": ".py",
   "mimetype": "text/x-python",
   "name": "python",
   "nbconvert_exporter": "python",
   "pygments_lexer": "ipython2",
   "version": "2.7.12"
  }
 },
 "nbformat": 4,
 "nbformat_minor": 2
}
