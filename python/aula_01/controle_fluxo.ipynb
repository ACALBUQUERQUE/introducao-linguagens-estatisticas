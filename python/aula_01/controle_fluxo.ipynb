{
 "cells": [
  {
   "cell_type": "markdown",
   "metadata": {},
   "source": [
    "# Controle de Fluxo\n",
    "\n",
    "Nesse jupyter notebook, vamos visitar os comandos (instruções) de controle de fluxo em python. São eles:\n",
    "\n",
    "- if..else\n",
    "- laços de repetição:\n",
    " - for\n",
    " - while\n",
    " \n",
    " \n",
    " \n",
    "## if...else\n",
    "\n",
    "O comando *if* é útilizado quando queremos bifurcações nas decisões em nosso código, ou seja, quando queremos executar um trecho do código apenas se uma determinada condição for satisfeita.\n",
    "\n",
    "Vamos escrever um código que imprime na tela se um dado número é positivo ou não."
   ]
  },
  {
   "cell_type": "code",
   "execution_count": 1,
   "metadata": {},
   "outputs": [
    {
     "name": "stdout",
     "output_type": "stream",
     "text": [
      "3 é positivo!\n",
      "3 é negativo!\n"
     ]
    }
   ],
   "source": [
    "num = 3\n",
    "if num >= 0:\n",
    "    print(num, \"é positivo!\")\n",
    "# é sempre impresso\n",
    "print(num, \"é negativo!\")"
   ]
  },
  {
   "cell_type": "markdown",
   "metadata": {},
   "source": [
    "No exemplo, acima queríamo imprimir na tela se o número é positivo ou não, porém é sempre impresso que o número negativo.\n",
    "\n",
    "Daí temos a expressão ```else```, que significa: *caso a condição anterior [da cláusula ```if```] não seja satisfeita execute o comando*. Rescrevendo o código acima:"
   ]
  },
  {
   "cell_type": "markdown",
   "metadata": {},
   "source": [
    "num = 3\n",
    "if num >= 0:\n",
    "    print(num, \"é positivo!\")\n",
    "else:\n",
    "    print(num, \"é negativo!\")\n",
    "    \n",
    "num = -1\n",
    "if num >= 0:\n",
    "    print(num, \"é positivo!\")\n",
    "else:\n",
    "    print(num, \"é negativo!\")"
   ]
  },
  {
   "cell_type": "markdown",
   "metadata": {},
   "source": [
    "Caso quiséssemos que o ```else``` fosse executado apenas para condições especificas? Para isso existe o comando ```elif``` (em outras linguagens *else if*). Com ele conseguimos especificar varias outras condições. Voltando ao exemplo anterior, suponhamos que além de saber se um número é positivo e negativo, queremos também saber se ele é zero."
   ]
  },
  {
   "cell_type": "code",
   "execution_count": 6,
   "metadata": {},
   "outputs": [
    {
     "name": "stdout",
     "output_type": "stream",
     "text": [
      "3.4 é positivo!\n"
     ]
    }
   ],
   "source": [
    "num = 3.4\n",
    "if num > 0:\n",
    "    print(num, \"é positivo!\")\n",
    "elif num < 0:\n",
    "    print(num, \"é negativo!\")\n",
    "else:\n",
    "    print(num, \"é zero!\")"
   ]
  },
  {
   "cell_type": "markdown",
   "metadata": {},
   "source": [
    "Podemos adicionar quantas cláusualas ```elif``` quisermos, porém elas devem ser precedidas pela cláusula ```if```.\n",
    "\n",
    "### Exercícios\n",
    "\n",
    "Para exercitar um pouco a sintaxe do python e o que foi passado, peço para que você faça os seguintes exercícios:\n",
    "\n",
    "#### Exercício 1\n",
    "\n",
    "Escreva uma código que verifique se um número é par ou ímpar."
   ]
  },
  {
   "cell_type": "code",
   "execution_count": 10,
   "metadata": {
    "collapsed": true
   },
   "outputs": [],
   "source": [
    "# escreva seu código aqui"
   ]
  },
  {
   "cell_type": "markdown",
   "metadata": {},
   "source": [
    "#### Exercício 2\n",
    "\n",
    "Escreva uma código que imprima o maior entre 3 números."
   ]
  },
  {
   "cell_type": "code",
   "execution_count": 9,
   "metadata": {
    "collapsed": true
   },
   "outputs": [],
   "source": [
    "a = 1\n",
    "b = 20\n",
    "c = -10\n",
    "\n",
    "# escreva seu código aqui\n",
    "\n",
    "# sáida esperada: 20"
   ]
  },
  {
   "cell_type": "markdown",
   "metadata": {},
   "source": [
    "## Laços de Repetição\n",
    "\n",
    "Laço são comando para que consigamos repetir um conjunto de comandos várias vezes. Geralmente, é utilizado para iterar sobre uma sequência (i.e., lista, tupla, string).\n",
    "\n",
    "### Comando for\n",
    "\n",
    "A sintaxe do comando for é basicamente o descrito abaixo:\n",
    "\n",
    "```python\n",
    "for val in sequence:\n",
    "    # trecho de código\n",
    "```\n",
    "\n",
    "```val``` corresponde a valor corrente da sequência que está sendo avaliado. O laço itera sobre todos os valores da sequência até que seu último item.\n",
    "\n",
    "### Range\n",
    "\n",
    "O laço for em python é um distinto dos comandos visto em outra linguagens. Aqui, precisamos de uma sequência para que possamos executar o laço, para isso o python no fornece a função ```range```. Abaixo descrevo a sintaxe e exemplos de uso dessa função.\n",
    "\n",
    "```python\n",
    "# cria uma sequência de 0 até fim - 1\n",
    "range(fim)\n",
    "\n",
    "# cria uma sequência de inicio até fim - 1\n",
    "range(inicio, fim)\n",
    "\n",
    "# cria uma sequência de inicio até fim - 1 incrementando passos\n",
    "range(inicio, fim, passos)\n",
    "```"
   ]
  },
  {
   "cell_type": "code",
   "execution_count": 14,
   "metadata": {},
   "outputs": [
    {
     "name": "stdout",
     "output_type": "stream",
     "text": [
      "[0, 1, 2, 3, 4, 5, 6, 7, 8]\n",
      "[2, 3, 4, 5, 6, 7, 8]\n",
      "[0, 3, 6]\n"
     ]
    }
   ],
   "source": [
    "print(list(range(9)))\n",
    "\n",
    "print(list(range(2, 9)))\n",
    "\n",
    "print(list(range(0, 9, 3)))"
   ]
  },
  {
   "cell_type": "markdown",
   "metadata": {},
   "source": [
    "Vamos então ver um exemplo do laço for"
   ]
  },
  {
   "cell_type": "code",
   "execution_count": 1,
   "metadata": {},
   "outputs": [
    {
     "name": "stdout",
     "output_type": "stream",
     "text": [
      "45  =  45\n"
     ]
    }
   ],
   "source": [
    "soma = 0\n",
    "n = 10\n",
    "for val in range(1, n):\n",
    "    soma += val\n",
    "soma\n",
    "\n",
    "print(soma, \" = \", (n * (n - 1)) // 2)"
   ]
  },
  {
   "cell_type": "markdown",
   "metadata": {},
   "source": [
    "### Comando while"
   ]
  }
 ],
 "metadata": {
  "kernelspec": {
   "display_name": "Python 3",
   "language": "python",
   "name": "python3"
  },
  "language_info": {
   "codemirror_mode": {
    "name": "ipython",
    "version": 3
   },
   "file_extension": ".py",
   "mimetype": "text/x-python",
   "name": "python",
   "nbconvert_exporter": "python",
   "pygments_lexer": "ipython3",
   "version": "3.5.2"
  }
 },
 "nbformat": 4,
 "nbformat_minor": 2
}
